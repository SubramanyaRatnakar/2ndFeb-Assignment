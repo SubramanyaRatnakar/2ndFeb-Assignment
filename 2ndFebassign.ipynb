{
 "cells": [
  {
   "cell_type": "code",
   "execution_count": null,
   "id": "4893a42f",
   "metadata": {},
   "outputs": [],
   "source": [
    "1. Explain with an example each when to use a for loop and a ehile loop"
   ]
  },
  {
   "cell_type": "code",
   "execution_count": null,
   "id": "6b023870",
   "metadata": {},
   "outputs": [],
   "source": [
    "Ans: For loop-> A for loop is commonly used when the number of iterations is known in advance. It is also used when we need to iterate over a sequence, such as a list, tuple, string or range. Here is an example of a for loop that iterates over a list of numbers and prints each number:\n",
    "         numbers = [1, 2, 3, 4, 5]\n",
    "        for num in numbers:\n",
    "            print(num)\n",
    "    \n",
    "    While loop->is useful when we do not know the exact number of iterations needed and the loop will continue until a certain condition is met. \n",
    "    \n",
    "    name = \"\"\n",
    "\n",
    "    while not name:\n",
    "        name = input(\"Please enter your name: \")\n",
    "\n",
    "    print(\"Hello, \" + name + \"!\")\n"
   ]
  },
  {
   "cell_type": "code",
   "execution_count": null,
   "id": "3a578a10",
   "metadata": {},
   "outputs": [],
   "source": [
    "2.write a python program to print the sum and product of the first 10 natural numbers using for and while loop?"
   ]
  },
  {
   "cell_type": "code",
   "execution_count": 24,
   "id": "243d2fe4",
   "metadata": {},
   "outputs": [
    {
     "name": "stdout",
     "output_type": "stream",
     "text": [
      "Using while loop:\n",
      "Sum of first 10 natural numbers is: 55\n",
      "Product of first 10 natural numbers is: 3628800\n",
      "The sum of number is-> 55\n",
      "The product is-> 3628800\n"
     ]
    }
   ],
   "source": [
    "Ans: def check():\n",
    "    summ=0\n",
    "    product=1\n",
    "    for i in range(1,11):\n",
    "        summ=summ+i\n",
    "        product=i*product\n",
    "    print(\"The sum of number is->\",summ)\n",
    "    print(\"The product is->\",product)\n",
    "    # Using while loop\n",
    "sum = 0\n",
    "product = 1\n",
    "i = 1\n",
    "\n",
    "while i <= 10:\n",
    "    sum += i\n",
    "    product *= i\n",
    "    i += 1\n",
    "\n",
    "print(\"Using while loop:\")\n",
    "print(\"Sum of first 10 natural numbers is:\", sum)\n",
    "print(\"Product of first 10 natural numbers is:\", product)\n",
    "\n",
    "check()"
   ]
  },
  {
   "cell_type": "code",
   "execution_count": 25,
   "id": "f5209dbf",
   "metadata": {},
   "outputs": [
    {
     "name": "stdout",
     "output_type": "stream",
     "text": [
      "Enter the number of units consumed: 310\n",
      "Electricity bill: Rs. 2700.0\n"
     ]
    }
   ],
   "source": [
    "Ans 3: # Input the number of units consumed\n",
    "units = int(input(\"Enter the number of units consumed: \"))\n",
    "\n",
    "# Compute the electricity bill\n",
    "if units <= 100:\n",
    "    bill = units * 4.5\n",
    "elif units <= 200:\n",
    "    bill = 100 * 4.5 + (units - 100) * 6\n",
    "elif units <= 300:\n",
    "    bill = 100 * 4.5 + 100 * 6 + (units - 200) * 10\n",
    "else:\n",
    "    bill = 100 * 4.5 + 100 * 6 + 100 * 10 + (units - 300) * 20\n",
    "\n",
    "#  20% for bills above Rs. 1000\n",
    "if bill > 1000:\n",
    "    bill += bill * 0.2\n",
    "\n",
    "# Print the electricity bill\n",
    "print(\"Electricity bill: Rs.\", bill)\n"
   ]
  },
  {
   "cell_type": "code",
   "execution_count": 8,
   "id": "7d6f9277",
   "metadata": {},
   "outputs": [
    {
     "name": "stdout",
     "output_type": "stream",
     "text": [
      "[2, 4, 5, 6, 8, 10, 12, 14, 15, 16, 18, 20, 22, 24, 25, 26, 28, 30, 32, 34, 35, 36, 38, 40, 42, 44, 45, 46, 48, 50, 52, 54, 55, 56, 58, 60, 62, 64, 65, 66, 68, 70, 72, 74, 75, 76, 78, 80, 82, 84, 85, 86, 88, 90, 92, 94, 95, 96, 98, 100]\n"
     ]
    }
   ],
   "source": [
    "Ans 4:mylist=[]\n",
    "for i in range(1,101):\n",
    "    listt=i**3\n",
    "    if listt%4==0 or listt%5==0:\n",
    "        \n",
    "        mylist.append(i)\n",
    "print(mylist)"
   ]
  },
  {
   "cell_type": "code",
   "execution_count": 1,
   "id": "3eb75584",
   "metadata": {},
   "outputs": [
    {
     "name": "stdout",
     "output_type": "stream",
     "text": [
      "[2, 4, 5, 6, 8, 10, 12, 14, 15, 16, 18, 20, 22, 24, 25, 26, 28, 30, 32, 34, 35, 36, 38, 40, 42, 44, 45, 46, 48, 50, 52, 54, 55, 56, 58, 60, 62, 64, 65, 66, 68, 70, 72, 74, 75, 76, 78, 80, 82, 84, 85, 86, 88, 90, 92, 94, 95, 96, 98, 100]\n"
     ]
    }
   ],
   "source": [
    "Ans 4: cube=[]\n",
    "i=1\n",
    "while i<=100:\n",
    "    \n",
    "    cubes=i**3\n",
    "    if cubes%4==0 or cubes%5==0:\n",
    "        \n",
    "        cube.append(i)\n",
    "    i+=1\n",
    "print(cube)"
   ]
  },
  {
   "cell_type": "code",
   "execution_count": 6,
   "id": "5ae45714",
   "metadata": {},
   "outputs": [
    {
     "name": "stdout",
     "output_type": "stream",
     "text": [
      "The vowels are-> 12\n"
     ]
    }
   ],
   "source": [
    "Ans 5 .string=\"I want to become a Data Scientist\"\n",
    "mylist=[\"A\",\"E\",\"I\",\"O\",\"U\"]\n",
    "new=string.upper()\n",
    "v=0\n",
    "for i in new:\n",
    "    if i in mylist:\n",
    "        v+=1\n",
    "print(\"The vowels are->\",v)"
   ]
  }
 ],
 "metadata": {
  "kernelspec": {
   "display_name": "Python 3 (ipykernel)",
   "language": "python",
   "name": "python3"
  },
  "language_info": {
   "codemirror_mode": {
    "name": "ipython",
    "version": 3
   },
   "file_extension": ".py",
   "mimetype": "text/x-python",
   "name": "python",
   "nbconvert_exporter": "python",
   "pygments_lexer": "ipython3",
   "version": "3.9.13"
  }
 },
 "nbformat": 4,
 "nbformat_minor": 5
}
